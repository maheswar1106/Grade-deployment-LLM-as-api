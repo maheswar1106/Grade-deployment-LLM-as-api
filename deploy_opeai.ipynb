{
 "cells": [
  {
   "cell_type": "code",
   "execution_count": 13,
   "metadata": {},
   "outputs": [
    {
     "name": "stdout",
     "output_type": "stream",
     "text": [
      "Requirement already satisfied: langserve in /Users/mahesh/Desktop/langchain/chatbot/venv/lib/python3.9/site-packages (0.3.0)\n",
      "Requirement already satisfied: httpx<1.0,>=0.23.0 in /Users/mahesh/Desktop/langchain/chatbot/venv/lib/python3.9/site-packages (from langserve) (0.27.2)\n",
      "Requirement already satisfied: langchain-core<0.4,>=0.3 in /Users/mahesh/Desktop/langchain/chatbot/venv/lib/python3.9/site-packages (from langserve) (0.3.0)\n",
      "Requirement already satisfied: orjson<4,>=2 in /Users/mahesh/Desktop/langchain/chatbot/venv/lib/python3.9/site-packages (from langserve) (3.10.7)\n",
      "Requirement already satisfied: pydantic<3.0,>=2.7 in /Users/mahesh/Desktop/langchain/chatbot/venv/lib/python3.9/site-packages (from langserve) (2.9.1)\n",
      "Requirement already satisfied: anyio in /Users/mahesh/Desktop/langchain/chatbot/venv/lib/python3.9/site-packages (from httpx<1.0,>=0.23.0->langserve) (4.4.0)\n",
      "Requirement already satisfied: certifi in /Users/mahesh/Desktop/langchain/chatbot/venv/lib/python3.9/site-packages (from httpx<1.0,>=0.23.0->langserve) (2024.8.30)\n",
      "Requirement already satisfied: httpcore==1.* in /Users/mahesh/Desktop/langchain/chatbot/venv/lib/python3.9/site-packages (from httpx<1.0,>=0.23.0->langserve) (1.0.5)\n",
      "Requirement already satisfied: idna in /Users/mahesh/Desktop/langchain/chatbot/venv/lib/python3.9/site-packages (from httpx<1.0,>=0.23.0->langserve) (3.8)\n",
      "Requirement already satisfied: sniffio in /Users/mahesh/Desktop/langchain/chatbot/venv/lib/python3.9/site-packages (from httpx<1.0,>=0.23.0->langserve) (1.3.1)\n",
      "Requirement already satisfied: h11<0.15,>=0.13 in /Users/mahesh/Desktop/langchain/chatbot/venv/lib/python3.9/site-packages (from httpcore==1.*->httpx<1.0,>=0.23.0->langserve) (0.14.0)\n",
      "Requirement already satisfied: PyYAML>=5.3 in /Users/mahesh/Desktop/langchain/chatbot/venv/lib/python3.9/site-packages (from langchain-core<0.4,>=0.3->langserve) (6.0.2)\n",
      "Requirement already satisfied: jsonpatch<2.0,>=1.33 in /Users/mahesh/Desktop/langchain/chatbot/venv/lib/python3.9/site-packages (from langchain-core<0.4,>=0.3->langserve) (1.33)\n",
      "Requirement already satisfied: langsmith<0.2.0,>=0.1.117 in /Users/mahesh/Desktop/langchain/chatbot/venv/lib/python3.9/site-packages (from langchain-core<0.4,>=0.3->langserve) (0.1.121)\n",
      "Requirement already satisfied: packaging<25,>=23.2 in /Users/mahesh/Desktop/langchain/chatbot/venv/lib/python3.9/site-packages (from langchain-core<0.4,>=0.3->langserve) (24.1)\n",
      "Requirement already satisfied: tenacity!=8.4.0,<9.0.0,>=8.1.0 in /Users/mahesh/Desktop/langchain/chatbot/venv/lib/python3.9/site-packages (from langchain-core<0.4,>=0.3->langserve) (8.5.0)\n",
      "Requirement already satisfied: typing-extensions>=4.7 in /Users/mahesh/Desktop/langchain/chatbot/venv/lib/python3.9/site-packages (from langchain-core<0.4,>=0.3->langserve) (4.12.2)\n",
      "Requirement already satisfied: annotated-types>=0.6.0 in /Users/mahesh/Desktop/langchain/chatbot/venv/lib/python3.9/site-packages (from pydantic<3.0,>=2.7->langserve) (0.7.0)\n",
      "Requirement already satisfied: pydantic-core==2.23.3 in /Users/mahesh/Desktop/langchain/chatbot/venv/lib/python3.9/site-packages (from pydantic<3.0,>=2.7->langserve) (2.23.3)\n",
      "Requirement already satisfied: jsonpointer>=1.9 in /Users/mahesh/Desktop/langchain/chatbot/venv/lib/python3.9/site-packages (from jsonpatch<2.0,>=1.33->langchain-core<0.4,>=0.3->langserve) (3.0.0)\n",
      "Requirement already satisfied: requests<3,>=2 in /Users/mahesh/Desktop/langchain/chatbot/venv/lib/python3.9/site-packages (from langsmith<0.2.0,>=0.1.117->langchain-core<0.4,>=0.3->langserve) (2.32.3)\n",
      "Requirement already satisfied: exceptiongroup>=1.0.2 in /Users/mahesh/Desktop/langchain/chatbot/venv/lib/python3.9/site-packages (from anyio->httpx<1.0,>=0.23.0->langserve) (1.2.2)\n",
      "Requirement already satisfied: charset-normalizer<4,>=2 in /Users/mahesh/Desktop/langchain/chatbot/venv/lib/python3.9/site-packages (from requests<3,>=2->langsmith<0.2.0,>=0.1.117->langchain-core<0.4,>=0.3->langserve) (3.3.2)\n",
      "Requirement already satisfied: urllib3<3,>=1.21.1 in /Users/mahesh/Desktop/langchain/chatbot/venv/lib/python3.9/site-packages (from requests<3,>=2->langsmith<0.2.0,>=0.1.117->langchain-core<0.4,>=0.3->langserve) (1.26.16)\n",
      "Note: you may need to restart the kernel to use updated packages.\n"
     ]
    }
   ],
   "source": [
    "pip install langserve"
   ]
  },
  {
   "cell_type": "code",
   "execution_count": 17,
   "metadata": {},
   "outputs": [],
   "source": [
    "from fastapi import FastAPI\n",
    "from langchain.prompts import ChatPromptTemplate\n",
    "from langchain_community.chat_models import ChatOpenAI\n",
    "from langchain_community.llms import Ollama\n",
    "import os\n",
    "from langchain.chains import LLMChain\n",
    "from dotenv import load_dotenv\n",
    "from langserve import add_routes\n",
    "import uvicorn\n",
    "\n",
    "# Load environment variables\n",
    "load_dotenv()\n",
    "os.environ[\"LANGCHAIN_TRACING_V2\"] = \"true\"\n",
    "os.environ[\"LANGCHAIN_API_KEY\"] = os.getenv(\"LANGCHAIN_API_KEY\")\n",
    "\n",
    "# Initialize FastAPI app\n",
    "mb_app = FastAPI(title=\"Langchain Server\", \n",
    "                 version=\"1.0\",\n",
    "                 description=\"A simple API Server\")\n",
    "\n",
    "# Define models and prompts\n",
    "model = ChatOpenAI()  # You were correctly initializing this before\n",
    "llm = Ollama(model=\"llama2\")\n",
    "\n",
    "prompt1 = ChatPromptTemplate.from_template(\"Give me information about {topic} with 150 words\")\n",
    "prompt2 = ChatPromptTemplate.from_template(\"Give me a song about {topic} with 100 words\")\n",
    "\n",
    "# Create LLM chains (which are Runnable instances)\n",
    "llm_chain1 = LLMChain(llm=model, prompt=prompt1)\n",
    "llm_chain2 = LLMChain(llm=llm, prompt=prompt2)\n",
    "\n",
    "# Add routes for information and song using the LLMChains\n",
    "add_routes(mb_app, llm_chain1, path=\"/information\")\n",
    "add_routes(mb_app, llm_chain2, path=\"/song\")\n",
    "\n",
    "# Run the app\n",
    "if __name__ == \"__main__\":\n",
    "    uvicorn.run(mb_app, host=\"localhost\", port=8000)\n"
   ]
  },
  {
   "cell_type": "code",
   "execution_count": null,
   "metadata": {},
   "outputs": [],
   "source": []
  }
 ],
 "metadata": {
  "kernelspec": {
   "display_name": "venv",
   "language": "python",
   "name": "python3"
  },
  "language_info": {
   "codemirror_mode": {
    "name": "ipython",
    "version": 3
   },
   "file_extension": ".py",
   "mimetype": "text/x-python",
   "name": "python",
   "nbconvert_exporter": "python",
   "pygments_lexer": "ipython3",
   "version": "3.9.6"
  }
 },
 "nbformat": 4,
 "nbformat_minor": 2
}
