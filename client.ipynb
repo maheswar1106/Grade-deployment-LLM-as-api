{
 "cells": [
  {
   "cell_type": "code",
   "execution_count": null,
   "metadata": {},
   "outputs": [],
   "source": [
    "import requests\n",
    "import streamlit as st\n",
    "import json\n",
    "\n",
    "def ollama_response1(input_text):\n",
    "    response=requests.post(\"\",json={'input':{'topic':input_text}})\n",
    "    return response.json()['output']['content']\n",
    "\n",
    "def ollama_response2(input_text):\n",
    "    response=requests.post(\"\", json={'input':{'topic':input_text}})\n",
    "    return response.json()['output']['content']\n",
    "\n",
    "st.title(\"Creating APIS with llama2 using langchain\")\n",
    "input_text=st.text_input(\"write an infromation on\")\n",
    "input_text1=st.text_input(\"write a song on\")\n",
    "\n",
    "if input_text:\n",
    "    st.write(ollama_response1(input_text))\n",
    "\n",
    "if input_text1:\n",
    "     st.write(ollama_response2(input_text))\n"
   ]
  }
 ],
 "metadata": {
  "language_info": {
   "name": "python"
  }
 },
 "nbformat": 4,
 "nbformat_minor": 2
}
